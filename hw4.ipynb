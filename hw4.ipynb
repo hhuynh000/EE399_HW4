{
 "cells": [
  {
   "cell_type": "code",
   "execution_count": null,
   "id": "cfadc26c",
   "metadata": {
    "id": "cfadc26c"
   },
   "outputs": [],
   "source": [
    "# https://github.com/hhuynh000/EE399_HW4\n",
    "import numpy as np\n",
    "from sklearn.decomposition import PCA\n",
    "import torch\n",
    "import torch.nn as nn\n",
    "import torchvision.datasets as datasets\n",
    "import torchvision.transforms as transforms\n",
    "\n",
    "import matplotlib.pyplot as plt\n",
    "from matplotlib import cm\n",
    "\n",
    "from keras.datasets import mnist\n",
    "\n",
    "# For Progress Bar\n",
    "from tqdm import tqdm"
   ]
  },
  {
   "cell_type": "markdown",
   "id": "9233901c",
   "metadata": {
    "id": "9233901c"
   },
   "source": [
    "## Part I"
   ]
  },
  {
   "cell_type": "code",
   "execution_count": null,
   "id": "83cccd11",
   "metadata": {
    "id": "83cccd11"
   },
   "outputs": [],
   "source": [
    "# generate dataset\n",
    "X=np.arange(0,30)\n",
    "Y=np.array([30, 35, 33, 32, 34, 37, 39, 38, 36, 36, 37, 39, 42, 45, 45, 41,\n",
    "40, 39, 42, 44, 47, 49, 50, 49, 46, 48, 50, 53, 55, 54])"
   ]
  },
  {
   "cell_type": "code",
   "execution_count": null,
   "id": "e1e9309e",
   "metadata": {
    "colab": {
     "base_uri": "https://localhost:8080/",
     "height": 472
    },
    "id": "e1e9309e",
    "outputId": "40a647b4-6f8c-4f25-a55c-1fdb50174286"
   },
   "outputs": [
    {
     "data": {
      "image/png": "[encoded data removed]",
      "text/plain": [
       "<Figure size 640x480 with 1 Axes>"
      ]
     },
     "metadata": {},
     "output_type": "display_data"
    }
   ],
   "source": [
    "# plot data\n",
    "plt.figure()\n",
    "plt.title('Dataset')\n",
    "plt.scatter(X,Y)\n",
    "plt.ylabel('y')\n",
    "plt.xlabel('x')\n",
    "plt.show()"
   ]
  },
  {
   "cell_type": "code",
   "execution_count": null,
   "id": "61ce9633",
   "metadata": {
    "id": "61ce9633"
   },
   "outputs": [],
   "source": [
    "# Define the neural network architecture\n",
    "class Net(nn.Module):\n",
    "    def __init__(self):\n",
    "        super(Net, self).__init__()\n",
    "        self.fc1 = nn.Linear(1, 64)\n",
    "        self.fc2 = nn.Linear(64, 64)\n",
    "        self.fc3 = nn.Linear(64, 1)\n",
    "\n",
    "    def forward(self, x):\n",
    "        x = torch.relu(self.fc1(x))\n",
    "        x = torch.relu(self.fc2(x))\n",
    "        x = self.fc3(x)\n",
    "        return x"
   ]
  },
  {
   "cell_type": "code",
   "execution_count": null,
   "id": "cc1b4459",
   "metadata": {
    "id": "cc1b4459"
   },
   "outputs": [],
   "source": [
    "def train(net, train_X, train_Y, num_epochs):\n",
    "    # Initialize the network and define the loss function and optimizer\n",
    "    criterion = nn.MSELoss()\n",
    "    optimizer = torch.optim.Adam(net.parameters(), lr=0.0005)\n",
    "\n",
    "    # Train the network\n",
    "    for epoch in range(num_epochs):\n",
    "        loss_record = []\n",
    "        for i, (x, y) in enumerate(zip(train_X, train_Y)):\n",
    "            optimizer.zero_grad()\n",
    "            outputs = net(x)\n",
    "            loss = criterion(outputs, y)\n",
    "            loss.backward()\n",
    "            optimizer.step()\n",
    "            loss_record.append(loss.item())\n",
    "\n",
    "        mean_loss = np.mean(loss_record)\n",
    "        print ('Epoch [{}/{}], Loss: {:.4f}'.format(epoch+1, num_epochs, mean_loss))"
   ]
  },
  {
   "cell_type": "code",
   "execution_count": null,
   "id": "ba903ed7",
   "metadata": {
    "id": "ba903ed7"
   },
   "outputs": [],
   "source": [
    "def test(net, X, Y):\n",
    "    pred = []\n",
    "    with torch.no_grad():\n",
    "        lsqe = 0\n",
    "        total = 0\n",
    "        for x, y in zip(X, Y.numpy()):\n",
    "            predicted = net(x).numpy()\n",
    "            pred.append(predicted)\n",
    "            total += 1\n",
    "            lsqe += (y - predicted)**2\n",
    "\n",
    "        lsqe = np.sqrt(lsqe)\n",
    "        print('Least square error of the network: {} '.format(100 * lsqe / total))\n",
    "        return pred"
   ]
  },
  {
   "cell_type": "markdown",
   "id": "11c61536",
   "metadata": {
    "id": "11c61536"
   },
   "source": [
    "### Using the first 20 data points as training data and remaining 10 data points as test data"
   ]
  },
  {
   "cell_type": "code",
   "execution_count": null,
   "id": "2af723b5",
   "metadata": {
    "id": "2af723b5"
   },
   "outputs": [],
   "source": [
    "# split train and test dataset\n",
    "train_X = torch.tensor(X[:20]).reshape(20,1).float()\n",
    "train_Y = torch.tensor(Y[:20]).reshape(20,1).float()\n",
    "\n",
    "test_X = torch.tensor(X[20:]).reshape(10,1).float()\n",
    "test_Y = torch.tensor(Y[20:]).reshape(10,1).float()"
   ]
  },
  {
   "cell_type": "code",
   "execution_count": null,
   "id": "4af741e9",
   "metadata": {
    "id": "4af741e9"
   },
   "outputs": [],
   "source": [
    "net = Net()"
   ]
  },
  {
   "cell_type": "code",
   "execution_count": null,
   "id": "415d666e",
   "metadata": {
    "colab": {
     "base_uri": "https://localhost:8080/"
    },
    "id": "415d666e",
    "outputId": "021e6fc8-315c-4eb2-d7aa-0c3b39eebedf",
    "scrolled": true
   },
   "outputs": [
    {
     "name": "stdout",
     "output_type": "stream",
     "text": [
      "Epoch [1/100], Loss: 1285.6279\n",
      "Epoch [2/100], Loss: 1077.5270\n",
      "Epoch [3/100], Loss: 876.4373\n",
      "Epoch [4/100], Loss: 675.2195\n",
      "Epoch [5/100], Loss: 496.7774\n",
      "Epoch [6/100], Loss: 370.4212\n",
      "Epoch [7/100], Loss: 308.4784\n",
      "Epoch [8/100], Loss: 286.3909\n",
      "Epoch [9/100], Loss: 277.9016\n",
      "Epoch [10/100], Loss: 274.0450\n",
      "Epoch [11/100], Loss: 271.8825\n",
      "Epoch [12/100], Loss: 270.0637\n",
      "Epoch [13/100], Loss: 268.1910\n",
      "Epoch [14/100], Loss: 269.3897\n",
      "Epoch [15/100], Loss: 263.6701\n",
      "Epoch [16/100], Loss: 262.2379\n",
      "Epoch [17/100], Loss: 260.7304\n",
      "Epoch [18/100], Loss: 258.9504\n",
      "Epoch [19/100], Loss: 257.0724\n",
      "Epoch [20/100], Loss: 255.1773\n",
      "Epoch [21/100], Loss: 253.2744\n",
      "Epoch [22/100], Loss: 251.3675\n",
      "Epoch [23/100], Loss: 249.4513\n",
      "Epoch [24/100], Loss: 247.5212\n",
      "Epoch [25/100], Loss: 245.5749\n",
      "Epoch [26/100], Loss: 243.6111\n",
      "Epoch [27/100], Loss: 241.6142\n",
      "Epoch [28/100], Loss: 239.5726\n",
      "Epoch [29/100], Loss: 237.5044\n",
      "Epoch [30/100], Loss: 235.4104\n",
      "Epoch [31/100], Loss: 233.2593\n",
      "Epoch [32/100], Loss: 231.0446\n",
      "Epoch [33/100], Loss: 228.7635\n",
      "Epoch [34/100], Loss: 226.3723\n",
      "Epoch [35/100], Loss: 223.8278\n",
      "Epoch [36/100], Loss: 221.1169\n",
      "Epoch [37/100], Loss: 218.1525\n",
      "Epoch [38/100], Loss: 215.1606\n",
      "Epoch [39/100], Loss: 212.3533\n",
      "Epoch [40/100], Loss: 209.8418\n",
      "Epoch [41/100], Loss: 207.3118\n",
      "Epoch [42/100], Loss: 204.6529\n",
      "Epoch [43/100], Loss: 202.0350\n",
      "Epoch [44/100], Loss: 199.2963\n",
      "Epoch [45/100], Loss: 196.6173\n",
      "Epoch [46/100], Loss: 193.8323\n",
      "Epoch [47/100], Loss: 191.0823\n",
      "Epoch [48/100], Loss: 188.1775\n",
      "Epoch [49/100], Loss: 185.3278\n",
      "Epoch [50/100], Loss: 182.3905\n",
      "Epoch [51/100], Loss: 179.3802\n",
      "Epoch [52/100], Loss: 176.4137\n",
      "Epoch [53/100], Loss: 173.4235\n",
      "Epoch [54/100], Loss: 170.3015\n",
      "Epoch [55/100], Loss: 167.1379\n",
      "Epoch [56/100], Loss: 164.0375\n",
      "Epoch [57/100], Loss: 160.8020\n",
      "Epoch [58/100], Loss: 157.5100\n",
      "Epoch [59/100], Loss: 154.2941\n",
      "Epoch [60/100], Loss: 150.9674\n",
      "Epoch [61/100], Loss: 147.7413\n",
      "Epoch [62/100], Loss: 144.0919\n",
      "Epoch [63/100], Loss: 140.8292\n",
      "Epoch [64/100], Loss: 137.5845\n",
      "Epoch [65/100], Loss: 133.8790\n",
      "Epoch [66/100], Loss: 130.7062\n",
      "Epoch [67/100], Loss: 126.9149\n",
      "Epoch [68/100], Loss: 123.7021\n",
      "Epoch [69/100], Loss: 120.2957\n",
      "Epoch [70/100], Loss: 116.4772\n",
      "Epoch [71/100], Loss: 113.2982\n",
      "Epoch [72/100], Loss: 109.2862\n",
      "Epoch [73/100], Loss: 105.9436\n",
      "Epoch [74/100], Loss: 102.3343\n",
      "Epoch [75/100], Loss: 98.4400\n",
      "Epoch [76/100], Loss: 95.0593\n",
      "Epoch [77/100], Loss: 90.9885\n",
      "Epoch [78/100], Loss: 87.6031\n",
      "Epoch [79/100], Loss: 83.3137\n",
      "Epoch [80/100], Loss: 79.3429\n",
      "Epoch [81/100], Loss: 74.3075\n",
      "Epoch [82/100], Loss: 69.8388\n",
      "Epoch [83/100], Loss: 65.9793\n",
      "Epoch [84/100], Loss: 62.4301\n",
      "Epoch [85/100], Loss: 58.8019\n",
      "Epoch [86/100], Loss: 55.4320\n",
      "Epoch [87/100], Loss: 51.6565\n",
      "Epoch [88/100], Loss: 48.2694\n",
      "Epoch [89/100], Loss: 44.5405\n",
      "Epoch [90/100], Loss: 41.1620\n",
      "Epoch [91/100], Loss: 37.2547\n",
      "Epoch [92/100], Loss: 34.1748\n",
      "Epoch [93/100], Loss: 31.4061\n",
      "Epoch [94/100], Loss: 28.5319\n",
      "Epoch [95/100], Loss: 26.0441\n",
      "Epoch [96/100], Loss: 24.0878\n",
      "Epoch [97/100], Loss: 22.4450\n",
      "Epoch [98/100], Loss: 20.7220\n",
      "Epoch [99/100], Loss: 19.2214\n",
      "Epoch [100/100], Loss: 17.7845\n"
     ]
    }
   ],
   "source": [
    "train(net, train_X, train_Y, 100)"
   ]
  },
  {
   "cell_type": "code",
   "execution_count": null,
   "id": "e88ab0a0",
   "metadata": {
    "colab": {
     "base_uri": "https://localhost:8080/"
    },
    "id": "e88ab0a0",
    "outputId": "a6af5dd1-05fb-45ad-c739-0251737eb3a7"
   },
   "outputs": [
    {
     "name": "stdout",
     "output_type": "stream",
     "text": [
      "Least square error of the network: [86.57725] \n"
     ]
    }
   ],
   "source": [
    "# Test the network on training data\n",
    "y_pred_train = test(net, train_X, train_Y)"
   ]
  },
  {
   "cell_type": "code",
   "execution_count": null,
   "id": "19af831b",
   "metadata": {
    "colab": {
     "base_uri": "https://localhost:8080/"
    },
    "id": "19af831b",
    "outputId": "83d270c6-d5db-49bd-c537-747388e317c2"
   },
   "outputs": [
    {
     "name": "stdout",
     "output_type": "stream",
     "text": [
      "Least square error of the network: [269.67526] \n"
     ]
    }
   ],
   "source": [
    "# Test the network on testing data\n",
    "y_pred_test = test(net, test_X, test_Y)"
   ]
  },
  {
   "cell_type": "code",
   "execution_count": null,
   "id": "787473d8",
   "metadata": {
    "colab": {
     "base_uri": "https://localhost:8080/",
     "height": 472
    },
    "id": "787473d8",
    "outputId": "092b9240-ff6a-4c88-e0fc-d70b9efa697a"
   },
   "outputs": [
    {
     "data": {
      "image/png": "[encoded data removed]",
      "text/plain": [
       "<Figure size 640x480 with 1 Axes>"
      ]
     },
     "metadata": {},
     "output_type": "display_data"
    }
   ],
   "source": [
    "plt.figure()\n",
    "plt.title('Neural Network Fit')\n",
    "plt.scatter(X, Y, label='dataset')\n",
    "plt.plot(train_X, y_pred_train, label='train prediction', color='r')\n",
    "plt.plot(test_X, y_pred_test, label='test prediction', color='orange')\n",
    "plt.ylabel('y')\n",
    "plt.xlabel('x')\n",
    "plt.legend()\n",
    "plt.show()"
   ]
  },
  {
   "cell_type": "markdown",
   "id": "7798b010",
   "metadata": {
    "id": "7798b010"
   },
   "source": [
    "### Using the first 10 and last 10 data points as training data and the middle 10 data points as test data"
   ]
  },
  {
   "cell_type": "code",
   "execution_count": null,
   "id": "fe0b5e37",
   "metadata": {
    "id": "fe0b5e37"
   },
   "outputs": [],
   "source": [
    "# split train and test dataset\n",
    "train_X = torch.tensor(np.concatenate((X[:10], X[20:]))).reshape(20,1).float()\n",
    "train_Y = torch.tensor(np.concatenate((Y[:10], Y[20:]))).reshape(20,1).float()\n",
    "\n",
    "test_X = torch.tensor(X[10:20]).reshape(10,1).float()\n",
    "test_Y = torch.tensor(Y[10:20]).reshape(10,1).float()"
   ]
  },
  {
   "cell_type": "code",
   "execution_count": null,
   "id": "d26561f9",
   "metadata": {
    "id": "d26561f9"
   },
   "outputs": [],
   "source": [
    "net = Net()"
   ]
  },
  {
   "cell_type": "code",
   "execution_count": null,
   "id": "1fcd5de7",
   "metadata": {
    "colab": {
     "base_uri": "https://localhost:8080/"
    },
    "id": "1fcd5de7",
    "outputId": "07c73c1c-578b-4a30-8036-52e26815930c",
    "scrolled": true
   },
   "outputs": [
    {
     "name": "stdout",
     "output_type": "stream",
     "text": [
      "Epoch [1/100], Loss: 1487.4783\n",
      "Epoch [2/100], Loss: 1108.0120\n",
      "Epoch [3/100], Loss: 777.5494\n",
      "Epoch [4/100], Loss: 526.2633\n",
      "Epoch [5/100], Loss: 387.6232\n",
      "Epoch [6/100], Loss: 344.2459\n",
      "Epoch [7/100], Loss: 333.0757\n",
      "Epoch [8/100], Loss: 328.7869\n",
      "Epoch [9/100], Loss: 327.4236\n",
      "Epoch [10/100], Loss: 326.0852\n",
      "Epoch [11/100], Loss: 324.2790\n",
      "Epoch [12/100], Loss: 322.2599\n",
      "Epoch [13/100], Loss: 320.1724\n",
      "Epoch [14/100], Loss: 318.0094\n",
      "Epoch [15/100], Loss: 315.7234\n",
      "Epoch [16/100], Loss: 313.5096\n",
      "Epoch [17/100], Loss: 311.2712\n",
      "Epoch [18/100], Loss: 309.0763\n",
      "Epoch [19/100], Loss: 306.8142\n",
      "Epoch [20/100], Loss: 304.4706\n",
      "Epoch [21/100], Loss: 302.0790\n",
      "Epoch [22/100], Loss: 299.6224\n",
      "Epoch [23/100], Loss: 297.0730\n",
      "Epoch [24/100], Loss: 294.4216\n",
      "Epoch [25/100], Loss: 291.6091\n",
      "Epoch [26/100], Loss: 288.4904\n",
      "Epoch [27/100], Loss: 285.1661\n",
      "Epoch [28/100], Loss: 281.6986\n",
      "Epoch [29/100], Loss: 278.4128\n",
      "Epoch [30/100], Loss: 275.1225\n",
      "Epoch [31/100], Loss: 272.1118\n",
      "Epoch [32/100], Loss: 268.4433\n",
      "Epoch [33/100], Loss: 265.0966\n",
      "Epoch [34/100], Loss: 261.4612\n",
      "Epoch [35/100], Loss: 257.7933\n",
      "Epoch [36/100], Loss: 254.3307\n",
      "Epoch [37/100], Loss: 250.0112\n",
      "Epoch [38/100], Loss: 246.1238\n",
      "Epoch [39/100], Loss: 241.8587\n",
      "Epoch [40/100], Loss: 237.3521\n",
      "Epoch [41/100], Loss: 232.7925\n",
      "Epoch [42/100], Loss: 227.6798\n",
      "Epoch [43/100], Loss: 222.7017\n",
      "Epoch [44/100], Loss: 217.0293\n",
      "Epoch [45/100], Loss: 211.2789\n",
      "Epoch [46/100], Loss: 204.7551\n",
      "Epoch [47/100], Loss: 197.8915\n",
      "Epoch [48/100], Loss: 190.3375\n",
      "Epoch [49/100], Loss: 181.8334\n",
      "Epoch [50/100], Loss: 173.5920\n",
      "Epoch [51/100], Loss: 164.9005\n",
      "Epoch [52/100], Loss: 156.5546\n",
      "Epoch [53/100], Loss: 149.3356\n",
      "Epoch [54/100], Loss: 140.8752\n",
      "Epoch [55/100], Loss: 132.6802\n",
      "Epoch [56/100], Loss: 124.1253\n",
      "Epoch [57/100], Loss: 115.8851\n",
      "Epoch [58/100], Loss: 107.6808\n",
      "Epoch [59/100], Loss: 100.4145\n",
      "Epoch [60/100], Loss: 93.3626\n",
      "Epoch [61/100], Loss: 86.3535\n",
      "Epoch [62/100], Loss: 79.7585\n",
      "Epoch [63/100], Loss: 73.2323\n",
      "Epoch [64/100], Loss: 67.1208\n",
      "Epoch [65/100], Loss: 60.9868\n",
      "Epoch [66/100], Loss: 55.4744\n",
      "Epoch [67/100], Loss: 50.0481\n",
      "Epoch [68/100], Loss: 45.3158\n",
      "Epoch [69/100], Loss: 40.4289\n",
      "Epoch [70/100], Loss: 36.4152\n",
      "Epoch [71/100], Loss: 32.1890\n",
      "Epoch [72/100], Loss: 28.7890\n",
      "Epoch [73/100], Loss: 25.2445\n",
      "Epoch [74/100], Loss: 22.5091\n",
      "Epoch [75/100], Loss: 19.6527\n",
      "Epoch [76/100], Loss: 17.5053\n",
      "Epoch [77/100], Loss: 15.1798\n",
      "Epoch [78/100], Loss: 13.5254\n",
      "Epoch [79/100], Loss: 11.7462\n",
      "Epoch [80/100], Loss: 10.4967\n",
      "Epoch [81/100], Loss: 9.1039\n",
      "Epoch [82/100], Loss: 8.2607\n",
      "Epoch [83/100], Loss: 7.2116\n",
      "Epoch [84/100], Loss: 6.7196\n",
      "Epoch [85/100], Loss: 5.9524\n",
      "Epoch [86/100], Loss: 5.6760\n",
      "Epoch [87/100], Loss: 5.1554\n",
      "Epoch [88/100], Loss: 5.0388\n",
      "Epoch [89/100], Loss: 4.6718\n",
      "Epoch [90/100], Loss: 4.6286\n",
      "Epoch [91/100], Loss: 4.3991\n",
      "Epoch [92/100], Loss: 4.4035\n",
      "Epoch [93/100], Loss: 4.2372\n",
      "Epoch [94/100], Loss: 4.3260\n",
      "Epoch [95/100], Loss: 4.0446\n",
      "Epoch [96/100], Loss: 4.2972\n",
      "Epoch [97/100], Loss: 3.9323\n",
      "Epoch [98/100], Loss: 4.2726\n",
      "Epoch [99/100], Loss: 3.9030\n",
      "Epoch [100/100], Loss: 4.2056\n"
     ]
    }
   ],
   "source": [
    "train(net, train_X, train_Y, 100)"
   ]
  },
  {
   "cell_type": "code",
   "execution_count": null,
   "id": "382bc6f0",
   "metadata": {
    "colab": {
     "base_uri": "https://localhost:8080/"
    },
    "id": "382bc6f0",
    "outputId": "04bae11c-ee2c-4e5c-8281-29e493882148"
   },
   "outputs": [
    {
     "name": "stdout",
     "output_type": "stream",
     "text": [
      "Least square error of the network: [41.61445] \n"
     ]
    }
   ],
   "source": [
    "# Test the network on training data\n",
    "y_pred_train = test(net, train_X, train_Y)"
   ]
  },
  {
   "cell_type": "code",
   "execution_count": null,
   "id": "8462f58b",
   "metadata": {
    "colab": {
     "base_uri": "https://localhost:8080/"
    },
    "id": "8462f58b",
    "outputId": "7fa59b63-4a21-4b21-83c9-6fb80fc347a1"
   },
   "outputs": [
    {
     "name": "stdout",
     "output_type": "stream",
     "text": [
      "Least square error of the network: [91.8409] \n"
     ]
    }
   ],
   "source": [
    "# Test the network on testing data\n",
    "y_pred_test = test(net, test_X, test_Y)"
   ]
  },
  {
   "cell_type": "code",
   "execution_count": null,
   "id": "aa7ea968",
   "metadata": {
    "colab": {
     "base_uri": "https://localhost:8080/",
     "height": 472
    },
    "id": "aa7ea968",
    "outputId": "a1b6bf41-d6c2-4e23-ed4f-44035e8780e2"
   },
   "outputs": [
    {
     "data": {
      "image/png": "[encoded data removed]",
      "text/plain": [
       "<Figure size 640x480 with 1 Axes>"
      ]
     },
     "metadata": {},
     "output_type": "display_data"
    }
   ],
   "source": [
    "plt.figure()\n",
    "plt.title('Neural Network Fit')\n",
    "plt.scatter(X, Y, label='dataset')\n",
    "plt.plot(train_X[:10], y_pred_train[:10], label='train prediction', color='r')\n",
    "plt.plot(train_X[10:], y_pred_train[10:], color='r')\n",
    "plt.plot(test_X, y_pred_test, label='test prediction', color='orange')\n",
    "plt.ylabel('y')\n",
    "plt.xlabel('x')\n",
    "plt.legend()\n",
    "plt.show()"
   ]
  },
  {
   "cell_type": "markdown",
   "id": "3ec56f75",
   "metadata": {
    "id": "3ec56f75"
   },
   "source": [
    "## Part II"
   ]
  },
  {
   "cell_type": "code",
   "execution_count": null,
   "id": "1343f8de",
   "metadata": {
    "colab": {
     "base_uri": "https://localhost:8080/"
    },
    "id": "1343f8de",
    "outputId": "03c0ff14-1393-4d75-8e9c-2bdde890d389"
   },
   "outputs": [
    {
     "name": "stdout",
     "output_type": "stream",
     "text": [
      "X_train: (60000, 784)\n",
      "Y_train: (60000,)\n",
      "X_test:  (10000, 784)\n",
      "Y_test:  (10000,)\n"
     ]
    }
   ],
   "source": [
    "(train_x, train_y), (test_x, test_y) = mnist.load_data()\n",
    "train_x = train_x.reshape(train_x.shape[0], train_x.shape[1]**2)\n",
    "test_x = test_x.reshape(test_x.shape[0], test_x.shape[1]**2)\n",
    "\n",
    "print('X_train: ' + str(train_x.shape))\n",
    "print('Y_train: ' + str(train_y.shape))\n",
    "print('X_test:  '  + str(test_x.shape))\n",
    "print('Y_test:  '  + str(test_y.shape))"
   ]
  },
  {
   "cell_type": "code",
   "execution_count": null,
   "id": "abcab0d4",
   "metadata": {
    "colab": {
     "base_uri": "https://localhost:8080/",
     "height": 486
    },
    "id": "abcab0d4",
    "outputId": "017d07bf-a375-462c-bac6-32090c51e2a6"
   },
   "outputs": [
    {
     "data": {
      "image/png": "[encoded data removed]",
      "text/plain": [
       "<Figure size 640x480 with 9 Axes>"
      ]
     },
     "metadata": {},
     "output_type": "display_data"
    }
   ],
   "source": [
    "plt.figure()\n",
    "for i in range(9):  \n",
    "    plt.subplot(3, 3, 1 + i)\n",
    "    plt.imshow(train_x[i].reshape(28, 28), cmap=cm.gray)\n",
    "    plt.axis('off')\n",
    "    \n",
    "plt.tight_layout()\n",
    "plt.show()"
   ]
  },
  {
   "cell_type": "markdown",
   "id": "bfe06d99",
   "metadata": {
    "id": "bfe06d99"
   },
   "source": [
    "### Compute the first 20 PCA modes of the digit images"
   ]
  },
  {
   "cell_type": "code",
   "execution_count": null,
   "id": "be82d86e",
   "metadata": {
    "colab": {
     "base_uri": "https://localhost:8080/"
    },
    "id": "be82d86e",
    "outputId": "7a5764a7-a5a7-45df-b960-76cbe40ca3a4"
   },
   "outputs": [
    {
     "name": "stdout",
     "output_type": "stream",
     "text": [
      "(70000, 784)\n"
     ]
    }
   ],
   "source": [
    "X_data = np.vstack((train_x, test_x))\n",
    "print(X_data.shape)"
   ]
  },
  {
   "cell_type": "code",
   "execution_count": null,
   "id": "854fe115",
   "metadata": {
    "id": "854fe115"
   },
   "outputs": [],
   "source": [
    "pca = PCA(n_components=20)\n",
    "pca.fit(X_data)\n",
    "componenets = pca.components_"
   ]
  },
  {
   "cell_type": "code",
   "execution_count": null,
   "id": "060cc298",
   "metadata": {
    "colab": {
     "base_uri": "https://localhost:8080/",
     "height": 806
    },
    "id": "060cc298",
    "outputId": "b8e818e7-93ab-4486-e3b6-0c9e2c511045"
   },
   "outputs": [
    {
     "data": {
      "image/png": "[encoded data removed]",
      "text/plain": [
       "<Figure size 800x800 with 20 Axes>"
      ]
     },
     "metadata": {},
     "output_type": "display_data"
    }
   ],
   "source": [
    "plt.figure(figsize=(8,8))\n",
    "for i in range(componenets.shape[0]):  \n",
    "    plt.subplot(5, 4, 1 + i)\n",
    "    plt.imshow(componenets[i].reshape(28, 28), cmap=cm.gray)\n",
    "    plt.axis('off')\n",
    "    plt.title('PC' + str(i+1))\n",
    "plt.tight_layout()\n",
    "plt.show()"
   ]
  },
  {
   "cell_type": "markdown",
   "id": "89f532a9",
   "metadata": {
    "id": "89f532a9"
   },
   "source": [
    "### Build a feed-foward neural network to classify the digits"
   ]
  },
  {
   "cell_type": "code",
   "execution_count": null,
   "id": "f9223f3f",
   "metadata": {
    "id": "f9223f3f"
   },
   "outputs": [],
   "source": [
    "transform = transforms.Compose([transforms.ToTensor(),\n",
    "                              transforms.Normalize((0.5,), (0.5,)),\n",
    "                              ])\n",
    "\n",
    "trainset = datasets.MNIST('data/train', download=True, train=True, transform=transform)\n",
    "testset = datasets.MNIST('data/test', download=True, train=False, transform=transform)\n",
    "trainloader = torch.utils.data.DataLoader(trainset, batch_size=64, shuffle=True)\n",
    "testloader = torch.utils.data.DataLoader(testset, batch_size=64, shuffle=False)"
   ]
  },
  {
   "cell_type": "code",
   "execution_count": null,
   "id": "92d16b07",
   "metadata": {
    "id": "92d16b07"
   },
   "outputs": [],
   "source": [
    "# Define the neural network architecture\n",
    "class ImageNet(nn.Module):\n",
    "    def __init__(self):\n",
    "        super().__init__()\n",
    "        self.fc1 = nn.Linear(784, 128)\n",
    "        self.fc2 = nn.Linear(128, 64)\n",
    "        self.fc3 = nn.Linear(64, 10)\n",
    "\n",
    "    def forward(self, x):\n",
    "        x = torch.flatten(x, 1)\n",
    "        x = torch.relu(self.fc1(x))\n",
    "        x = torch.relu(self.fc2(x))\n",
    "        x = self.fc3(x)\n",
    "        return x"
   ]
  },
  {
   "cell_type": "code",
   "execution_count": null,
   "id": "b803a1d4",
   "metadata": {
    "id": "b803a1d4"
   },
   "outputs": [],
   "source": [
    "def train(net, dataloader, num_epochs):\n",
    "    # Initialize the network and define the loss function and optimizer\n",
    "    criterion = nn.CrossEntropyLoss()\n",
    "    optimizer = torch.optim.Adam(net.parameters(), lr=0.0005)\n",
    "    \n",
    "    # Train the network\n",
    "    for epoch in range(num_epochs):\n",
    "        loss_record = []\n",
    "        train_pbar = tqdm(dataloader, position=0, leave=True)\n",
    "        for x, y in train_pbar:\n",
    "            optimizer.zero_grad()\n",
    "            x, y = x.to(device), y.to(device) \n",
    "            outputs = net(x)\n",
    "            loss = criterion(outputs, y)\n",
    "            loss.backward()\n",
    "            optimizer.step()\n",
    "            loss_record.append(loss.item())\n",
    "\n",
    "        mean_loss = np.mean(loss_record)\n",
    "        print ('Epoch [{}/{}], Loss: {:.4f}'.format(epoch+1, num_epochs, mean_loss))"
   ]
  },
  {
   "cell_type": "code",
   "execution_count": null,
   "id": "3944b982",
   "metadata": {
    "id": "3944b982"
   },
   "outputs": [],
   "source": [
    "def validate(model, test_loader):\n",
    "    correct = 0\n",
    "    total = 0\n",
    "    # since we're not training, we don't need to calculate the gradients for our outputs\n",
    "    with torch.no_grad():\n",
    "        for data in test_loader:\n",
    "            images, labels = data\n",
    "            images, labels = images.to(device), labels.to(device)\n",
    "            # calculate outputs by running images through the network\n",
    "            outputs = model(images)\n",
    "            # the class with the highest energy is what we choose as prediction\n",
    "            _, predicted = torch.max(outputs.data, 1)\n",
    "            total += labels.size(0)\n",
    "            correct += (predicted == labels).sum().item()\n",
    "\n",
    "    print(f'Accuracy of the network on the 10000 test images: {100 * correct // total} %')"
   ]
  },
  {
   "cell_type": "code",
   "execution_count": null,
   "id": "b0322058",
   "metadata": {
    "colab": {
     "base_uri": "https://localhost:8080/"
    },
    "id": "b0322058",
    "outputId": "9f6e209f-045a-4a50-e1ff-f22f8f941871"
   },
   "outputs": [
    {
     "name": "stdout",
     "output_type": "stream",
     "text": [
      "cuda:0\n"
     ]
    }
   ],
   "source": [
    "device = torch.device(\"cuda:0\" if torch.cuda.is_available() else \"cpu\")\n",
    "print(device)"
   ]
  },
  {
   "cell_type": "code",
   "execution_count": null,
   "id": "5271b41b",
   "metadata": {
    "id": "5271b41b"
   },
   "outputs": [],
   "source": [
    "image_net = ImageNet().to(device)"
   ]
  },
  {
   "cell_type": "code",
   "execution_count": null,
   "id": "750d2395",
   "metadata": {
    "colab": {
     "base_uri": "https://localhost:8080/"
    },
    "id": "750d2395",
    "outputId": "44caad6e-6855-45cf-ab77-239225c2e147",
    "scrolled": true
   },
   "outputs": [
    {
     "name": "stderr",
     "output_type": "stream",
     "text": [
      "100%|██████████| 938/938 [00:16<00:00, 55.39it/s]\n"
     ]
    },
    {
     "name": "stdout",
     "output_type": "stream",
     "text": [
      "Epoch [1/30], Loss: 0.4511\n"
     ]
    },
    {
     "name": "stderr",
     "output_type": "stream",
     "text": [
      "100%|██████████| 938/938 [00:16<00:00, 55.93it/s]\n"
     ]
    },
    {
     "name": "stdout",
     "output_type": "stream",
     "text": [
      "Epoch [2/30], Loss: 0.2272\n"
     ]
    },
    {
     "name": "stderr",
     "output_type": "stream",
     "text": [
      "100%|██████████| 938/938 [00:17<00:00, 53.80it/s]\n"
     ]
    },
    {
     "name": "stdout",
     "output_type": "stream",
     "text": [
      "Epoch [3/30], Loss: 0.1703\n"
     ]
    },
    {
     "name": "stderr",
     "output_type": "stream",
     "text": [
      "100%|██████████| 938/938 [00:16<00:00, 56.56it/s]\n"
     ]
    },
    {
     "name": "stdout",
     "output_type": "stream",
     "text": [
      "Epoch [4/30], Loss: 0.1352\n"
     ]
    },
    {
     "name": "stderr",
     "output_type": "stream",
     "text": [
      "100%|██████████| 938/938 [00:16<00:00, 55.65it/s]\n"
     ]
    },
    {
     "name": "stdout",
     "output_type": "stream",
     "text": [
      "Epoch [5/30], Loss: 0.1109\n"
     ]
    },
    {
     "name": "stderr",
     "output_type": "stream",
     "text": [
      "100%|██████████| 938/938 [00:17<00:00, 52.93it/s]\n"
     ]
    },
    {
     "name": "stdout",
     "output_type": "stream",
     "text": [
      "Epoch [6/30], Loss: 0.0967\n"
     ]
    },
    {
     "name": "stderr",
     "output_type": "stream",
     "text": [
      "100%|██████████| 938/938 [00:16<00:00, 56.74it/s]\n"
     ]
    },
    {
     "name": "stdout",
     "output_type": "stream",
     "text": [
      "Epoch [7/30], Loss: 0.0825\n"
     ]
    },
    {
     "name": "stderr",
     "output_type": "stream",
     "text": [
      "100%|██████████| 938/938 [00:16<00:00, 55.68it/s]\n"
     ]
    },
    {
     "name": "stdout",
     "output_type": "stream",
     "text": [
      "Epoch [8/30], Loss: 0.0736\n"
     ]
    },
    {
     "name": "stderr",
     "output_type": "stream",
     "text": [
      "100%|██████████| 938/938 [00:17<00:00, 53.46it/s]\n"
     ]
    },
    {
     "name": "stdout",
     "output_type": "stream",
     "text": [
      "Epoch [9/30], Loss: 0.0664\n"
     ]
    },
    {
     "name": "stderr",
     "output_type": "stream",
     "text": [
      "100%|██████████| 938/938 [00:16<00:00, 56.81it/s]\n"
     ]
    },
    {
     "name": "stdout",
     "output_type": "stream",
     "text": [
      "Epoch [10/30], Loss: 0.0587\n"
     ]
    },
    {
     "name": "stderr",
     "output_type": "stream",
     "text": [
      "100%|██████████| 938/938 [00:16<00:00, 55.52it/s]\n"
     ]
    },
    {
     "name": "stdout",
     "output_type": "stream",
     "text": [
      "Epoch [11/30], Loss: 0.0532\n"
     ]
    },
    {
     "name": "stderr",
     "output_type": "stream",
     "text": [
      "100%|██████████| 938/938 [00:16<00:00, 57.73it/s]\n"
     ]
    },
    {
     "name": "stdout",
     "output_type": "stream",
     "text": [
      "Epoch [12/30], Loss: 0.0491\n"
     ]
    },
    {
     "name": "stderr",
     "output_type": "stream",
     "text": [
      "100%|██████████| 938/938 [00:16<00:00, 58.40it/s]\n"
     ]
    },
    {
     "name": "stdout",
     "output_type": "stream",
     "text": [
      "Epoch [13/30], Loss: 0.0449\n"
     ]
    },
    {
     "name": "stderr",
     "output_type": "stream",
     "text": [
      "100%|██████████| 938/938 [00:16<00:00, 56.03it/s]\n"
     ]
    },
    {
     "name": "stdout",
     "output_type": "stream",
     "text": [
      "Epoch [14/30], Loss: 0.0409\n"
     ]
    },
    {
     "name": "stderr",
     "output_type": "stream",
     "text": [
      "100%|██████████| 938/938 [00:16<00:00, 56.19it/s]\n"
     ]
    },
    {
     "name": "stdout",
     "output_type": "stream",
     "text": [
      "Epoch [15/30], Loss: 0.0373\n"
     ]
    },
    {
     "name": "stderr",
     "output_type": "stream",
     "text": [
      "100%|██████████| 938/938 [00:16<00:00, 57.34it/s]\n"
     ]
    },
    {
     "name": "stdout",
     "output_type": "stream",
     "text": [
      "Epoch [16/30], Loss: 0.0349\n"
     ]
    },
    {
     "name": "stderr",
     "output_type": "stream",
     "text": [
      "100%|██████████| 938/938 [00:16<00:00, 55.84it/s]\n"
     ]
    },
    {
     "name": "stdout",
     "output_type": "stream",
     "text": [
      "Epoch [17/30], Loss: 0.0305\n"
     ]
    },
    {
     "name": "stderr",
     "output_type": "stream",
     "text": [
      "100%|██████████| 938/938 [00:16<00:00, 58.03it/s]\n"
     ]
    },
    {
     "name": "stdout",
     "output_type": "stream",
     "text": [
      "Epoch [18/30], Loss: 0.0294\n"
     ]
    },
    {
     "name": "stderr",
     "output_type": "stream",
     "text": [
      "100%|██████████| 938/938 [00:16<00:00, 57.84it/s]\n"
     ]
    },
    {
     "name": "stdout",
     "output_type": "stream",
     "text": [
      "Epoch [19/30], Loss: 0.0258\n"
     ]
    },
    {
     "name": "stderr",
     "output_type": "stream",
     "text": [
      "100%|██████████| 938/938 [00:16<00:00, 56.88it/s]\n"
     ]
    },
    {
     "name": "stdout",
     "output_type": "stream",
     "text": [
      "Epoch [20/30], Loss: 0.0252\n"
     ]
    },
    {
     "name": "stderr",
     "output_type": "stream",
     "text": [
      "100%|██████████| 938/938 [00:16<00:00, 56.19it/s]\n"
     ]
    },
    {
     "name": "stdout",
     "output_type": "stream",
     "text": [
      "Epoch [21/30], Loss: 0.0221\n"
     ]
    },
    {
     "name": "stderr",
     "output_type": "stream",
     "text": [
      "100%|██████████| 938/938 [00:16<00:00, 57.83it/s]\n"
     ]
    },
    {
     "name": "stdout",
     "output_type": "stream",
     "text": [
      "Epoch [22/30], Loss: 0.0236\n"
     ]
    },
    {
     "name": "stderr",
     "output_type": "stream",
     "text": [
      "100%|██████████| 938/938 [00:16<00:00, 56.40it/s]\n"
     ]
    },
    {
     "name": "stdout",
     "output_type": "stream",
     "text": [
      "Epoch [23/30], Loss: 0.0216\n"
     ]
    },
    {
     "name": "stderr",
     "output_type": "stream",
     "text": [
      "100%|██████████| 938/938 [00:16<00:00, 56.33it/s]\n"
     ]
    },
    {
     "name": "stdout",
     "output_type": "stream",
     "text": [
      "Epoch [24/30], Loss: 0.0172\n"
     ]
    },
    {
     "name": "stderr",
     "output_type": "stream",
     "text": [
      "100%|██████████| 938/938 [00:16<00:00, 57.62it/s]\n"
     ]
    },
    {
     "name": "stdout",
     "output_type": "stream",
     "text": [
      "Epoch [25/30], Loss: 0.0194\n"
     ]
    },
    {
     "name": "stderr",
     "output_type": "stream",
     "text": [
      "100%|██████████| 938/938 [00:16<00:00, 56.60it/s]\n"
     ]
    },
    {
     "name": "stdout",
     "output_type": "stream",
     "text": [
      "Epoch [26/30], Loss: 0.0194\n"
     ]
    },
    {
     "name": "stderr",
     "output_type": "stream",
     "text": [
      "100%|██████████| 938/938 [00:16<00:00, 56.58it/s]\n"
     ]
    },
    {
     "name": "stdout",
     "output_type": "stream",
     "text": [
      "Epoch [27/30], Loss: 0.0156\n"
     ]
    },
    {
     "name": "stderr",
     "output_type": "stream",
     "text": [
      "100%|██████████| 938/938 [00:16<00:00, 58.41it/s]\n"
     ]
    },
    {
     "name": "stdout",
     "output_type": "stream",
     "text": [
      "Epoch [28/30], Loss: 0.0143\n"
     ]
    },
    {
     "name": "stderr",
     "output_type": "stream",
     "text": [
      "100%|██████████| 938/938 [00:16<00:00, 58.04it/s]\n"
     ]
    },
    {
     "name": "stdout",
     "output_type": "stream",
     "text": [
      "Epoch [29/30], Loss: 0.0140\n"
     ]
    },
    {
     "name": "stderr",
     "output_type": "stream",
     "text": [
      "100%|██████████| 938/938 [00:16<00:00, 55.44it/s]"
     ]
    },
    {
     "name": "stdout",
     "output_type": "stream",
     "text": [
      "Epoch [30/30], Loss: 0.0140\n"
     ]
    },
    {
     "name": "stderr",
     "output_type": "stream",
     "text": [
      "\n"
     ]
    }
   ],
   "source": [
    "train(image_net, trainloader, 30)"
   ]
  },
  {
   "cell_type": "code",
   "execution_count": null,
   "id": "ps4eCnPlDAtH",
   "metadata": {
    "id": "ps4eCnPlDAtH"
   },
   "outputs": [],
   "source": [
    "torch.save(image_net.state_dict(), 'image_net.ckpt')"
   ]
  },
  {
   "cell_type": "code",
   "execution_count": null,
   "id": "NI0P-tjIDfH1",
   "metadata": {
    "colab": {
     "base_uri": "https://localhost:8080/"
    },
    "id": "NI0P-tjIDfH1",
    "outputId": "69525492-a8b7-46ba-d0d1-35b5b45835f0"
   },
   "outputs": [
    {
     "data": {
      "text/plain": [
       "<All keys matched successfully>"
      ]
     },
     "execution_count": 246,
     "metadata": {},
     "output_type": "execute_result"
    }
   ],
   "source": [
    "image_net = ImageNet().to(device)\n",
    "image_net.load_state_dict(torch.load('image_net.ckpt'))"
   ]
  },
  {
   "cell_type": "code",
   "execution_count": null,
   "id": "e1846aa5",
   "metadata": {
    "colab": {
     "base_uri": "https://localhost:8080/"
    },
    "id": "e1846aa5",
    "outputId": "c130d090-58b3-4f17-9d3a-e5734d6d7dae"
   },
   "outputs": [
    {
     "name": "stdout",
     "output_type": "stream",
     "text": [
      "Accuracy of the network on the 10000 test images: 97 %\n"
     ]
    }
   ],
   "source": [
    "validate(image_net, testloader)"
   ]
  },
  {
   "cell_type": "code",
   "execution_count": null,
   "id": "f8697a30",
   "metadata": {
    "id": "f8697a30"
   },
   "outputs": [],
   "source": []
  }
 ],
 "metadata": {
  "accelerator": "GPU",
  "colab": {
   "gpuType": "T4",
   "provenance": []
  },
  "gpuClass": "standard",
  "kernelspec": {
   "display_name": "Python 3 (ipykernel)",
   "language": "python",
   "name": "python3"
  },
  "language_info": {
   "codemirror_mode": {
    "name": "ipython",
    "version": 3
   },
   "file_extension": ".py",
   "mimetype": "text/x-python",
   "name": "python",
   "nbconvert_exporter": "python",
   "pygments_lexer": "ipython3",
   "version": "3.9.13"
  }
 },
 "nbformat": 4,
 "nbformat_minor": 5
}
