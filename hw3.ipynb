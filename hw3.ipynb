{
 "cells": [
  {
   "cell_type": "code",
   "execution_count": 203,
   "id": "cfadc26c",
   "metadata": {},
   "outputs": [],
   "source": [
    "import numpy as np\n",
    "from sklearn.decomposition import PCA\n",
    "\n",
    "import torch\n",
    "import torch.nn as nn\n",
    "import torchvision.datasets as datasets\n",
    "import torchvision.transforms as transforms\n",
    "\n",
    "import matplotlib.pyplot as plt\n",
    "from matplotlib import cm\n",
    "\n",
    "from keras.datasets import mnist\n",
    "\n",
    "# For Progress Bar\n",
    "from tqdm import tqdm"
   ]
  },
  {
   "cell_type": "markdown",
   "id": "9233901c",
   "metadata": {},
   "source": [
    "## Part I"
   ]
  },
  {
   "cell_type": "code",
   "execution_count": 3,
   "id": "83cccd11",
   "metadata": {},
   "outputs": [],
   "source": [
    "# generate dataset\n",
    "X=np.arange(0,30)\n",
    "Y=np.array([30, 35, 33, 32, 34, 37, 39, 38, 36, 36, 37, 39, 42, 45, 45, 41,\n",
    "40, 39, 42, 44, 47, 49, 50, 49, 46, 48, 50, 53, 55, 54])"
   ]
  },
  {
   "cell_type": "code",
   "execution_count": 4,
   "id": "e1e9309e",
   "metadata": {},
   "outputs": [
    {
     "data": {
      "image/png": "[encoded data removed]",
      "text/plain": [
       "<Figure size 640x480 with 1 Axes>"
      ]
     },
     "metadata": {},
     "output_type": "display_data"
    }
   ],
   "source": [
    "# plot data\n",
    "plt.figure()\n",
    "plt.title('Dataset')\n",
    "plt.scatter(X,Y)\n",
    "plt.ylabel('y')\n",
    "plt.xlabel('x')\n",
    "plt.show()"
   ]
  },
  {
   "cell_type": "code",
   "execution_count": 5,
   "id": "61ce9633",
   "metadata": {},
   "outputs": [],
   "source": [
    "# Define the neural network architecture\n",
    "class Net(nn.Module):\n",
    "    def __init__(self):\n",
    "        super(Net, self).__init__()\n",
    "        self.fc1 = nn.Linear(1, 64)\n",
    "        self.fc2 = nn.Linear(64, 64)\n",
    "        self.fc3 = nn.Linear(64, 1)\n",
    "\n",
    "    def forward(self, x):\n",
    "        x = torch.relu(self.fc1(x))\n",
    "        x = torch.relu(self.fc2(x))\n",
    "        x = self.fc3(x)\n",
    "        return x"
   ]
  },
  {
   "cell_type": "code",
   "execution_count": 6,
   "id": "cc1b4459",
   "metadata": {},
   "outputs": [],
   "source": [
    "def train(net, train_X, train_Y, num_epochs):\n",
    "    # Initialize the network and define the loss function and optimizer\n",
    "    criterion = nn.MSELoss()\n",
    "    optimizer = torch.optim.Adam(net.parameters(), lr=0.001)\n",
    "\n",
    "    # Train the network\n",
    "    for epoch in range(num_epochs):\n",
    "        loss_record = []\n",
    "        for i, (x, y) in enumerate(zip(train_X, train_Y)):\n",
    "            optimizer.zero_grad()\n",
    "            outputs = net(x)\n",
    "            loss = criterion(outputs, y)\n",
    "            loss.backward()\n",
    "            optimizer.step()\n",
    "            loss_record.append(loss.item())\n",
    "\n",
    "        mean_loss = np.mean(loss_record)\n",
    "        print ('Epoch [{}/{}], Loss: {:.4f}'.format(epoch+1, num_epochs, mean_loss))"
   ]
  },
  {
   "cell_type": "code",
   "execution_count": 7,
   "id": "ba903ed7",
   "metadata": {},
   "outputs": [],
   "source": [
    "def test(net, X, Y):\n",
    "    pred = []\n",
    "    with torch.no_grad():\n",
    "        lsqe = 0\n",
    "        total = 0\n",
    "        for x, y in zip(X, Y.numpy()):\n",
    "            predicted = net(x).numpy()\n",
    "            pred.append(predicted)\n",
    "            total += 1\n",
    "            lsqe += (y - predicted)**2\n",
    "\n",
    "        lsqe = np.sqrt(lsqe)\n",
    "        print('Least square error of the network: {} '.format(100 * lsqe / total))\n",
    "        return pred"
   ]
  },
  {
   "cell_type": "markdown",
   "id": "11c61536",
   "metadata": {},
   "source": [
    "### Using the first 20 data points as training data and remaining 10 data points as test data"
   ]
  },
  {
   "cell_type": "code",
   "execution_count": 8,
   "id": "2af723b5",
   "metadata": {},
   "outputs": [],
   "source": [
    "# split train and test dataset\n",
    "train_X = torch.tensor(X[:20]).reshape(20,1).float()\n",
    "train_Y = torch.tensor(Y[:20]).reshape(20,1).float()\n",
    "\n",
    "test_X = torch.tensor(X[20:]).reshape(10,1).float()\n",
    "test_Y = torch.tensor(Y[20:]).reshape(10,1).float()"
   ]
  },
  {
   "cell_type": "code",
   "execution_count": 9,
   "id": "4af741e9",
   "metadata": {},
   "outputs": [],
   "source": [
    "net = Net()"
   ]
  },
  {
   "cell_type": "code",
   "execution_count": 10,
   "id": "415d666e",
   "metadata": {
    "scrolled": true
   },
   "outputs": [
    {
     "name": "stdout",
     "output_type": "stream",
     "text": [
      "Epoch [1/100], Loss: 1257.0511\n",
      "Epoch [2/100], Loss: 843.4117\n",
      "Epoch [3/100], Loss: 449.8162\n",
      "Epoch [4/100], Loss: 320.9951\n",
      "Epoch [5/100], Loss: 271.0910\n",
      "Epoch [6/100], Loss: 267.1594\n",
      "Epoch [7/100], Loss: 265.3497\n",
      "Epoch [8/100], Loss: 257.3284\n",
      "Epoch [9/100], Loss: 249.4316\n",
      "Epoch [10/100], Loss: 242.2805\n",
      "Epoch [11/100], Loss: 234.7509\n",
      "Epoch [12/100], Loss: 226.1120\n",
      "Epoch [13/100], Loss: 216.2109\n",
      "Epoch [14/100], Loss: 204.7082\n",
      "Epoch [15/100], Loss: 193.7129\n",
      "Epoch [16/100], Loss: 182.6346\n",
      "Epoch [17/100], Loss: 170.4563\n",
      "Epoch [18/100], Loss: 157.2167\n",
      "Epoch [19/100], Loss: 140.8760\n",
      "Epoch [20/100], Loss: 127.1409\n",
      "Epoch [21/100], Loss: 114.6479\n",
      "Epoch [22/100], Loss: 101.5644\n",
      "Epoch [23/100], Loss: 89.9558\n",
      "Epoch [24/100], Loss: 77.9775\n",
      "Epoch [25/100], Loss: 66.9295\n",
      "Epoch [26/100], Loss: 56.3722\n",
      "Epoch [27/100], Loss: 47.1167\n",
      "Epoch [28/100], Loss: 38.5545\n",
      "Epoch [29/100], Loss: 31.0828\n",
      "Epoch [30/100], Loss: 24.9791\n",
      "Epoch [31/100], Loss: 19.6413\n",
      "Epoch [32/100], Loss: 15.6077\n",
      "Epoch [33/100], Loss: 12.1631\n",
      "Epoch [34/100], Loss: 9.9621\n",
      "Epoch [35/100], Loss: 9.0126\n",
      "Epoch [36/100], Loss: 8.0386\n",
      "Epoch [37/100], Loss: 7.6915\n",
      "Epoch [38/100], Loss: 7.1972\n",
      "Epoch [39/100], Loss: 7.1976\n",
      "Epoch [40/100], Loss: 6.8660\n",
      "Epoch [41/100], Loss: 7.0046\n",
      "Epoch [42/100], Loss: 6.7356\n",
      "Epoch [43/100], Loss: 6.9215\n",
      "Epoch [44/100], Loss: 6.7014\n",
      "Epoch [45/100], Loss: 6.8183\n",
      "Epoch [46/100], Loss: 6.6794\n",
      "Epoch [47/100], Loss: 6.7525\n",
      "Epoch [48/100], Loss: 6.6694\n",
      "Epoch [49/100], Loss: 6.7031\n",
      "Epoch [50/100], Loss: 6.6444\n",
      "Epoch [51/100], Loss: 6.6617\n",
      "Epoch [52/100], Loss: 6.6111\n",
      "Epoch [53/100], Loss: 6.6326\n",
      "Epoch [54/100], Loss: 6.5884\n",
      "Epoch [55/100], Loss: 6.5962\n",
      "Epoch [56/100], Loss: 6.5632\n",
      "Epoch [57/100], Loss: 6.5632\n",
      "Epoch [58/100], Loss: 6.5323\n",
      "Epoch [59/100], Loss: 6.5284\n",
      "Epoch [60/100], Loss: 6.5534\n",
      "Epoch [61/100], Loss: 6.4779\n",
      "Epoch [62/100], Loss: 6.4610\n",
      "Epoch [63/100], Loss: 6.4771\n",
      "Epoch [64/100], Loss: 6.4166\n",
      "Epoch [65/100], Loss: 6.8451\n",
      "Epoch [66/100], Loss: 6.4618\n",
      "Epoch [67/100], Loss: 6.4492\n",
      "Epoch [68/100], Loss: 6.3682\n",
      "Epoch [69/100], Loss: 6.4063\n",
      "Epoch [70/100], Loss: 6.3225\n",
      "Epoch [71/100], Loss: 6.3728\n",
      "Epoch [72/100], Loss: 6.2883\n",
      "Epoch [73/100], Loss: 6.3397\n",
      "Epoch [74/100], Loss: 6.2640\n",
      "Epoch [75/100], Loss: 6.2889\n",
      "Epoch [76/100], Loss: 6.2799\n",
      "Epoch [77/100], Loss: 6.2374\n",
      "Epoch [78/100], Loss: 6.2807\n",
      "Epoch [79/100], Loss: 6.2126\n",
      "Epoch [80/100], Loss: 6.2656\n",
      "Epoch [81/100], Loss: 6.1949\n",
      "Epoch [82/100], Loss: 6.2496\n",
      "Epoch [83/100], Loss: 6.1800\n",
      "Epoch [84/100], Loss: 6.2341\n",
      "Epoch [85/100], Loss: 6.1668\n",
      "Epoch [86/100], Loss: 6.2194\n",
      "Epoch [87/100], Loss: 6.1554\n",
      "Epoch [88/100], Loss: 6.2055\n",
      "Epoch [89/100], Loss: 6.1448\n",
      "Epoch [90/100], Loss: 6.1927\n",
      "Epoch [91/100], Loss: 6.1351\n",
      "Epoch [92/100], Loss: 6.1832\n",
      "Epoch [93/100], Loss: 6.1261\n",
      "Epoch [94/100], Loss: 6.1729\n",
      "Epoch [95/100], Loss: 6.1184\n",
      "Epoch [96/100], Loss: 6.1651\n",
      "Epoch [97/100], Loss: 6.1104\n",
      "Epoch [98/100], Loss: 6.1630\n",
      "Epoch [99/100], Loss: 6.1403\n",
      "Epoch [100/100], Loss: 6.1216\n"
     ]
    }
   ],
   "source": [
    "train(net, train_X, train_Y, 100)"
   ]
  },
  {
   "cell_type": "code",
   "execution_count": 11,
   "id": "e88ab0a0",
   "metadata": {},
   "outputs": [
    {
     "name": "stdout",
     "output_type": "stream",
     "text": [
      "Least square error of the network: [48.739872] \n"
     ]
    }
   ],
   "source": [
    "# Test the network on training data\n",
    "y_pred_train = test(net, train_X, train_Y)"
   ]
  },
  {
   "cell_type": "code",
   "execution_count": 12,
   "id": "19af831b",
   "metadata": {},
   "outputs": [
    {
     "name": "stdout",
     "output_type": "stream",
     "text": [
      "Least square error of the network: [177.15878] \n"
     ]
    }
   ],
   "source": [
    "# Test the network on testing data\n",
    "y_pred_test = test(net, test_X, test_Y)"
   ]
  },
  {
   "cell_type": "code",
   "execution_count": 13,
   "id": "787473d8",
   "metadata": {},
   "outputs": [
    {
     "data": {
      "image/png": "[encoded data removed]",
      "text/plain": [
       "<Figure size 640x480 with 1 Axes>"
      ]
     },
     "metadata": {},
     "output_type": "display_data"
    }
   ],
   "source": [
    "plt.figure()\n",
    "plt.title('Neural Network Fit')\n",
    "plt.scatter(X, Y, label='dataset')\n",
    "plt.plot(train_X, y_pred_train, label='train prediction', color='r')\n",
    "plt.plot(test_X, y_pred_test, label='test prediction', color='orange')\n",
    "plt.ylabel('y')\n",
    "plt.xlabel('x')\n",
    "plt.legend()\n",
    "plt.show()"
   ]
  },
  {
   "cell_type": "markdown",
   "id": "7798b010",
   "metadata": {},
   "source": [
    "### Using the first 10 and last 10 data points as training data and the middle 10 data points as test data"
   ]
  },
  {
   "cell_type": "code",
   "execution_count": 14,
   "id": "fe0b5e37",
   "metadata": {},
   "outputs": [],
   "source": [
    "# split train and test dataset\n",
    "train_X = torch.tensor(np.concatenate((X[:10], X[20:]))).reshape(20,1).float()\n",
    "train_Y = torch.tensor(np.concatenate((Y[:10], Y[20:]))).reshape(20,1).float()\n",
    "\n",
    "test_X = torch.tensor(X[10:20]).reshape(10,1).float()\n",
    "test_Y = torch.tensor(Y[10:20]).reshape(10,1).float()"
   ]
  },
  {
   "cell_type": "code",
   "execution_count": 15,
   "id": "d26561f9",
   "metadata": {},
   "outputs": [],
   "source": [
    "net = Net()"
   ]
  },
  {
   "cell_type": "code",
   "execution_count": 16,
   "id": "1fcd5de7",
   "metadata": {
    "scrolled": true
   },
   "outputs": [
    {
     "name": "stdout",
     "output_type": "stream",
     "text": [
      "Epoch [1/100], Loss: 1337.2404\n",
      "Epoch [2/100], Loss: 761.1866\n",
      "Epoch [3/100], Loss: 418.1654\n",
      "Epoch [4/100], Loss: 361.9343\n",
      "Epoch [5/100], Loss: 334.0647\n",
      "Epoch [6/100], Loss: 339.1654\n",
      "Epoch [7/100], Loss: 333.7220\n",
      "Epoch [8/100], Loss: 330.3454\n",
      "Epoch [9/100], Loss: 324.9255\n",
      "Epoch [10/100], Loss: 320.4846\n",
      "Epoch [11/100], Loss: 315.7379\n",
      "Epoch [12/100], Loss: 310.8463\n",
      "Epoch [13/100], Loss: 305.5018\n",
      "Epoch [14/100], Loss: 299.6675\n",
      "Epoch [15/100], Loss: 296.4916\n",
      "Epoch [16/100], Loss: 286.3016\n",
      "Epoch [17/100], Loss: 278.6817\n",
      "Epoch [18/100], Loss: 269.1893\n",
      "Epoch [19/100], Loss: 261.0227\n",
      "Epoch [20/100], Loss: 251.3680\n",
      "Epoch [21/100], Loss: 241.5115\n",
      "Epoch [22/100], Loss: 231.1721\n",
      "Epoch [23/100], Loss: 219.8247\n",
      "Epoch [24/100], Loss: 207.9997\n",
      "Epoch [25/100], Loss: 195.6717\n",
      "Epoch [26/100], Loss: 183.6730\n",
      "Epoch [27/100], Loss: 165.9850\n",
      "Epoch [28/100], Loss: 154.3444\n",
      "Epoch [29/100], Loss: 132.8821\n",
      "Epoch [30/100], Loss: 119.1521\n",
      "Epoch [31/100], Loss: 94.2814\n",
      "Epoch [32/100], Loss: 79.0160\n",
      "Epoch [33/100], Loss: 57.0653\n",
      "Epoch [34/100], Loss: 48.2239\n",
      "Epoch [35/100], Loss: 32.3063\n",
      "Epoch [36/100], Loss: 28.1267\n",
      "Epoch [37/100], Loss: 17.6935\n",
      "Epoch [38/100], Loss: 17.3572\n",
      "Epoch [39/100], Loss: 9.9070\n",
      "Epoch [40/100], Loss: 10.5728\n",
      "Epoch [41/100], Loss: 6.4948\n",
      "Epoch [42/100], Loss: 7.3297\n",
      "Epoch [43/100], Loss: 5.2937\n",
      "Epoch [44/100], Loss: 5.6383\n",
      "Epoch [45/100], Loss: 4.9993\n",
      "Epoch [46/100], Loss: 5.1228\n",
      "Epoch [47/100], Loss: 4.9158\n",
      "Epoch [48/100], Loss: 4.8533\n",
      "Epoch [49/100], Loss: 4.7712\n",
      "Epoch [50/100], Loss: 4.8497\n",
      "Epoch [51/100], Loss: 4.7545\n",
      "Epoch [52/100], Loss: 4.6978\n",
      "Epoch [53/100], Loss: 4.7797\n",
      "Epoch [54/100], Loss: 4.6345\n",
      "Epoch [55/100], Loss: 4.6290\n",
      "Epoch [56/100], Loss: 4.6768\n",
      "Epoch [57/100], Loss: 4.6466\n",
      "Epoch [58/100], Loss: 4.6188\n",
      "Epoch [59/100], Loss: 4.5306\n",
      "Epoch [60/100], Loss: 4.6088\n",
      "Epoch [61/100], Loss: 4.5445\n",
      "Epoch [62/100], Loss: 4.5845\n",
      "Epoch [63/100], Loss: 4.5588\n",
      "Epoch [64/100], Loss: 4.6090\n",
      "Epoch [65/100], Loss: 4.5948\n",
      "Epoch [66/100], Loss: 4.4360\n",
      "Epoch [67/100], Loss: 4.5503\n",
      "Epoch [68/100], Loss: 4.5051\n",
      "Epoch [69/100], Loss: 4.5184\n",
      "Epoch [70/100], Loss: 4.5582\n",
      "Epoch [71/100], Loss: 4.4508\n",
      "Epoch [72/100], Loss: 4.4739\n",
      "Epoch [73/100], Loss: 4.5026\n",
      "Epoch [74/100], Loss: 4.4793\n",
      "Epoch [75/100], Loss: 4.4522\n",
      "Epoch [76/100], Loss: 4.4855\n",
      "Epoch [77/100], Loss: 4.4615\n",
      "Epoch [78/100], Loss: 4.4641\n",
      "Epoch [79/100], Loss: 4.4521\n",
      "Epoch [80/100], Loss: 4.4700\n",
      "Epoch [81/100], Loss: 4.4444\n",
      "Epoch [82/100], Loss: 4.4581\n",
      "Epoch [83/100], Loss: 4.4448\n",
      "Epoch [84/100], Loss: 4.4573\n",
      "Epoch [85/100], Loss: 4.4359\n",
      "Epoch [86/100], Loss: 4.4526\n",
      "Epoch [87/100], Loss: 4.4386\n",
      "Epoch [88/100], Loss: 4.4464\n",
      "Epoch [89/100], Loss: 4.5332\n",
      "Epoch [90/100], Loss: 4.3914\n",
      "Epoch [91/100], Loss: 4.3875\n",
      "Epoch [92/100], Loss: 4.4907\n",
      "Epoch [93/100], Loss: 4.4653\n",
      "Epoch [94/100], Loss: 4.4383\n",
      "Epoch [95/100], Loss: 4.4192\n",
      "Epoch [96/100], Loss: 4.3807\n",
      "Epoch [97/100], Loss: 4.4832\n",
      "Epoch [98/100], Loss: 4.5285\n",
      "Epoch [99/100], Loss: 4.3767\n",
      "Epoch [100/100], Loss: 4.3803\n"
     ]
    }
   ],
   "source": [
    "train(net, train_X, train_Y, 100)"
   ]
  },
  {
   "cell_type": "code",
   "execution_count": 17,
   "id": "382bc6f0",
   "metadata": {},
   "outputs": [
    {
     "name": "stdout",
     "output_type": "stream",
     "text": [
      "Least square error of the network: [39.126102] \n"
     ]
    }
   ],
   "source": [
    "# Test the network on training data\n",
    "y_pred_train = test(net, train_X, train_Y)"
   ]
  },
  {
   "cell_type": "code",
   "execution_count": 18,
   "id": "8462f58b",
   "metadata": {},
   "outputs": [
    {
     "name": "stdout",
     "output_type": "stream",
     "text": [
      "Least square error of the network: [88.81961] \n"
     ]
    }
   ],
   "source": [
    "# Test the network on testing data\n",
    "y_pred_test = test(net, test_X, test_Y)"
   ]
  },
  {
   "cell_type": "code",
   "execution_count": 19,
   "id": "aa7ea968",
   "metadata": {},
   "outputs": [
    {
     "data": {
      "image/png": "[encoded data removed]",
      "text/plain": [
       "<Figure size 640x480 with 1 Axes>"
      ]
     },
     "metadata": {},
     "output_type": "display_data"
    }
   ],
   "source": [
    "plt.figure()\n",
    "plt.title('Neural Network Fit')\n",
    "plt.scatter(X, Y, label='dataset')\n",
    "plt.plot(train_X[:10], y_pred_train[:10], label='train prediction', color='r')\n",
    "plt.plot(train_X[10:], y_pred_train[10:], color='r')\n",
    "plt.plot(test_X, y_pred_test, label='test prediction', color='orange')\n",
    "plt.ylabel('y')\n",
    "plt.xlabel('x')\n",
    "plt.legend()\n",
    "plt.show()"
   ]
  },
  {
   "cell_type": "markdown",
   "id": "3ec56f75",
   "metadata": {},
   "source": [
    "## Part II"
   ]
  },
  {
   "cell_type": "code",
   "execution_count": 99,
   "id": "1343f8de",
   "metadata": {},
   "outputs": [
    {
     "name": "stdout",
     "output_type": "stream",
     "text": [
      "X_train: (60000, 784)\n",
      "Y_train: (60000,)\n",
      "X_test:  (10000, 784)\n",
      "Y_test:  (10000,)\n"
     ]
    }
   ],
   "source": [
    "(train_x, train_y), (test_x, test_y) = mnist.load_data()\n",
    "train_x = train_x.reshape(train_X.shape[0], train_x.shape[1]**2)\n",
    "test_x = test_x.reshape(test_X.shape[0], test_x.shape[1]**2)\n",
    "\n",
    "print('X_train: ' + str(train_x.shape))\n",
    "print('Y_train: ' + str(train_y.shape))\n",
    "print('X_test:  '  + str(test_x.shape))\n",
    "print('Y_test:  '  + str(test_y.shape))"
   ]
  },
  {
   "cell_type": "code",
   "execution_count": 100,
   "id": "abcab0d4",
   "metadata": {},
   "outputs": [
    {
     "data": {
      "image/png": "[encoded data removed]",
      "text/plain": [
       "<Figure size 640x480 with 9 Axes>"
      ]
     },
     "metadata": {},
     "output_type": "display_data"
    }
   ],
   "source": [
    "plt.figure()\n",
    "for i in range(9):  \n",
    "    plt.subplot(3, 3, 1 + i)\n",
    "    plt.imshow(train_x[i].reshape(28, 28), cmap=cm.gray)\n",
    "    plt.axis('off')\n",
    "    \n",
    "plt.tight_layout()\n",
    "plt.show()"
   ]
  },
  {
   "cell_type": "markdown",
   "id": "bfe06d99",
   "metadata": {},
   "source": [
    "### Compute the first 20 PCA modes of the digit images"
   ]
  },
  {
   "cell_type": "code",
   "execution_count": 101,
   "id": "be82d86e",
   "metadata": {},
   "outputs": [
    {
     "name": "stdout",
     "output_type": "stream",
     "text": [
      "(70000, 784)\n"
     ]
    }
   ],
   "source": [
    "X_data = np.vstack((train_x, test_x))\n",
    "print(X_data.shape)"
   ]
  },
  {
   "cell_type": "code",
   "execution_count": 102,
   "id": "854fe115",
   "metadata": {},
   "outputs": [],
   "source": [
    "pca = PCA(n_components=20)\n",
    "pca.fit(X_data)\n",
    "componenets = pca.components_"
   ]
  },
  {
   "cell_type": "code",
   "execution_count": 103,
   "id": "060cc298",
   "metadata": {},
   "outputs": [
    {
     "data": {
      "image/png": "[encoded data removed]",
      "text/plain": [
       "<Figure size 800x800 with 20 Axes>"
      ]
     },
     "metadata": {},
     "output_type": "display_data"
    }
   ],
   "source": [
    "plt.figure(figsize=(8,8))\n",
    "for i in range(componenets.shape[0]):  \n",
    "    plt.subplot(5, 4, 1 + i)\n",
    "    plt.imshow(componenets[i].reshape(28, 28), cmap=cm.gray)\n",
    "    plt.axis('off')\n",
    "    plt.title('PC' + str(i+1))\n",
    "plt.tight_layout()\n",
    "plt.show()"
   ]
  },
  {
   "cell_type": "markdown",
   "id": "89f532a9",
   "metadata": {},
   "source": [
    "### Build a feed-foward neural network to classify the digits"
   ]
  },
  {
   "cell_type": "code",
   "execution_count": 185,
   "id": "f9223f3f",
   "metadata": {},
   "outputs": [],
   "source": [
    "transform = transforms.Compose([transforms.ToTensor(),\n",
    "                              transforms.Normalize((0.5,), (0.5,)),\n",
    "                              ])\n",
    "\n",
    "trainset = datasets.MNIST('data/train', download=True, train=True, transform=transform)\n",
    "testset = datasets.MNIST('data/test', download=True, train=False, transform=transform)\n",
    "trainloader = torch.utils.data.DataLoader(trainset, batch_size=64, shuffle=True)\n",
    "testloader = torch.utils.data.DataLoader(testset, batch_size=64, shuffle=False)"
   ]
  },
  {
   "cell_type": "code",
   "execution_count": 193,
   "id": "92d16b07",
   "metadata": {},
   "outputs": [],
   "source": [
    "# Define the neural network architecture\n",
    "class ImageNet(nn.Module):\n",
    "    def __init__(self):\n",
    "        super().__init__()\n",
    "        self.fc1 = nn.Linear(784, 1024)\n",
    "        self.fc2 = nn.Linear(1024, 2048)\n",
    "        self.fc3 = nn.Linear(2048, 10)\n",
    "\n",
    "    def forward(self, x):\n",
    "        x = torch.flatten(x, 1)\n",
    "        x = torch.relu(self.fc1(x))\n",
    "        x = torch.relu(self.fc2(x))\n",
    "        x = self.fc3(x)\n",
    "        return x"
   ]
  },
  {
   "cell_type": "code",
   "execution_count": 214,
   "id": "b803a1d4",
   "metadata": {},
   "outputs": [],
   "source": [
    "def train(net, dataloader, num_epochs):\n",
    "    # Initialize the network and define the loss function and optimizer\n",
    "    criterion = nn.CrossEntropyLoss()\n",
    "    optimizer = torch.optim.Adam(net.parameters(), lr=0.001)\n",
    "    \n",
    "    # Train the network\n",
    "    for epoch in range(num_epochs):\n",
    "        loss_record = []\n",
    "        train_pbar = tqdm(dataloader, position=0, leave=True)\n",
    "        for x, y in train_pbar:\n",
    "            optimizer.zero_grad()\n",
    "            x, y = x.to(device), y.to(device) \n",
    "            outputs = net(x)\n",
    "            loss = criterion(outputs, y)\n",
    "            loss.backward()\n",
    "            optimizer.step()\n",
    "            loss_record.append(loss.item())\n",
    "\n",
    "        mean_loss = np.mean(loss_record)\n",
    "        print ('Epoch [{}/{}], Loss: {:.4f}'.format(epoch+1, num_epochs, mean_loss))"
   ]
  },
  {
   "cell_type": "code",
   "execution_count": 220,
   "id": "3944b982",
   "metadata": {},
   "outputs": [],
   "source": [
    "def validate(model, test_loader):\n",
    "    correct = 0\n",
    "    total = 0\n",
    "    # since we're not training, we don't need to calculate the gradients for our outputs\n",
    "    with torch.no_grad():\n",
    "        for data in test_loader:\n",
    "            images, labels = data\n",
    "            images, labels = images.to(device), labels.to(device)\n",
    "            # calculate outputs by running images through the network\n",
    "            outputs = model(images)\n",
    "            # the class with the highest energy is what we choose as prediction\n",
    "            _, predicted = torch.max(outputs.data, 1)\n",
    "            total += labels.size(0)\n",
    "            correct += (predicted == labels).sum().item()\n",
    "\n",
    "    print(f'Accuracy of the network on the 10000 test images: {100 * correct // total} %')"
   ]
  },
  {
   "cell_type": "code",
   "execution_count": 221,
   "id": "b0322058",
   "metadata": {},
   "outputs": [
    {
     "name": "stdout",
     "output_type": "stream",
     "text": [
      "cuda:0\n"
     ]
    }
   ],
   "source": [
    "device = torch.device(\"cuda:0\" if torch.cuda.is_available() else \"cpu\")\n",
    "print(device)"
   ]
  },
  {
   "cell_type": "code",
   "execution_count": 222,
   "id": "5271b41b",
   "metadata": {},
   "outputs": [],
   "source": [
    "image_net = ImageNet().to(device)"
   ]
  },
  {
   "cell_type": "code",
   "execution_count": 223,
   "id": "750d2395",
   "metadata": {
    "scrolled": true
   },
   "outputs": [
    {
     "name": "stderr",
     "output_type": "stream",
     "text": [
      "100%|████████████████████████████████████████████████████████████████████████████████| 938/938 [00:12<00:00, 75.22it/s]\n"
     ]
    },
    {
     "name": "stdout",
     "output_type": "stream",
     "text": [
      "Epoch [1/20], Loss: 0.2727\n"
     ]
    },
    {
     "name": "stderr",
     "output_type": "stream",
     "text": [
      "100%|████████████████████████████████████████████████████████████████████████████████| 938/938 [00:12<00:00, 77.35it/s]\n"
     ]
    },
    {
     "name": "stdout",
     "output_type": "stream",
     "text": [
      "Epoch [2/20], Loss: 0.1345\n"
     ]
    },
    {
     "name": "stderr",
     "output_type": "stream",
     "text": [
      "100%|████████████████████████████████████████████████████████████████████████████████| 938/938 [00:12<00:00, 76.20it/s]\n"
     ]
    },
    {
     "name": "stdout",
     "output_type": "stream",
     "text": [
      "Epoch [3/20], Loss: 0.1028\n"
     ]
    },
    {
     "name": "stderr",
     "output_type": "stream",
     "text": [
      "100%|████████████████████████████████████████████████████████████████████████████████| 938/938 [00:12<00:00, 75.07it/s]\n"
     ]
    },
    {
     "name": "stdout",
     "output_type": "stream",
     "text": [
      "Epoch [4/20], Loss: 0.0821\n"
     ]
    },
    {
     "name": "stderr",
     "output_type": "stream",
     "text": [
      "100%|████████████████████████████████████████████████████████████████████████████████| 938/938 [00:12<00:00, 72.83it/s]\n"
     ]
    },
    {
     "name": "stdout",
     "output_type": "stream",
     "text": [
      "Epoch [5/20], Loss: 0.0728\n"
     ]
    },
    {
     "name": "stderr",
     "output_type": "stream",
     "text": [
      "100%|████████████████████████████████████████████████████████████████████████████████| 938/938 [00:12<00:00, 74.30it/s]\n"
     ]
    },
    {
     "name": "stdout",
     "output_type": "stream",
     "text": [
      "Epoch [6/20], Loss: 0.0623\n"
     ]
    },
    {
     "name": "stderr",
     "output_type": "stream",
     "text": [
      "100%|████████████████████████████████████████████████████████████████████████████████| 938/938 [00:13<00:00, 71.92it/s]\n"
     ]
    },
    {
     "name": "stdout",
     "output_type": "stream",
     "text": [
      "Epoch [7/20], Loss: 0.0532\n"
     ]
    },
    {
     "name": "stderr",
     "output_type": "stream",
     "text": [
      "100%|████████████████████████████████████████████████████████████████████████████████| 938/938 [00:13<00:00, 71.16it/s]\n"
     ]
    },
    {
     "name": "stdout",
     "output_type": "stream",
     "text": [
      "Epoch [8/20], Loss: 0.0506\n"
     ]
    },
    {
     "name": "stderr",
     "output_type": "stream",
     "text": [
      "100%|████████████████████████████████████████████████████████████████████████████████| 938/938 [00:12<00:00, 72.18it/s]\n"
     ]
    },
    {
     "name": "stdout",
     "output_type": "stream",
     "text": [
      "Epoch [9/20], Loss: 0.0459\n"
     ]
    },
    {
     "name": "stderr",
     "output_type": "stream",
     "text": [
      "100%|████████████████████████████████████████████████████████████████████████████████| 938/938 [00:13<00:00, 71.64it/s]\n"
     ]
    },
    {
     "name": "stdout",
     "output_type": "stream",
     "text": [
      "Epoch [10/20], Loss: 0.0404\n"
     ]
    },
    {
     "name": "stderr",
     "output_type": "stream",
     "text": [
      "100%|████████████████████████████████████████████████████████████████████████████████| 938/938 [00:13<00:00, 71.93it/s]\n"
     ]
    },
    {
     "name": "stdout",
     "output_type": "stream",
     "text": [
      "Epoch [11/20], Loss: 0.0375\n"
     ]
    },
    {
     "name": "stderr",
     "output_type": "stream",
     "text": [
      "100%|████████████████████████████████████████████████████████████████████████████████| 938/938 [00:12<00:00, 72.75it/s]\n"
     ]
    },
    {
     "name": "stdout",
     "output_type": "stream",
     "text": [
      "Epoch [12/20], Loss: 0.0378\n"
     ]
    },
    {
     "name": "stderr",
     "output_type": "stream",
     "text": [
      "100%|████████████████████████████████████████████████████████████████████████████████| 938/938 [00:12<00:00, 73.49it/s]\n"
     ]
    },
    {
     "name": "stdout",
     "output_type": "stream",
     "text": [
      "Epoch [13/20], Loss: 0.0352\n"
     ]
    },
    {
     "name": "stderr",
     "output_type": "stream",
     "text": [
      "100%|████████████████████████████████████████████████████████████████████████████████| 938/938 [00:12<00:00, 73.06it/s]\n"
     ]
    },
    {
     "name": "stdout",
     "output_type": "stream",
     "text": [
      "Epoch [14/20], Loss: 0.0338\n"
     ]
    },
    {
     "name": "stderr",
     "output_type": "stream",
     "text": [
      "100%|████████████████████████████████████████████████████████████████████████████████| 938/938 [00:12<00:00, 72.22it/s]\n"
     ]
    },
    {
     "name": "stdout",
     "output_type": "stream",
     "text": [
      "Epoch [15/20], Loss: 0.0305\n"
     ]
    },
    {
     "name": "stderr",
     "output_type": "stream",
     "text": [
      "100%|████████████████████████████████████████████████████████████████████████████████| 938/938 [00:12<00:00, 72.53it/s]\n"
     ]
    },
    {
     "name": "stdout",
     "output_type": "stream",
     "text": [
      "Epoch [16/20], Loss: 0.0316\n"
     ]
    },
    {
     "name": "stderr",
     "output_type": "stream",
     "text": [
      "100%|████████████████████████████████████████████████████████████████████████████████| 938/938 [00:13<00:00, 71.74it/s]\n"
     ]
    },
    {
     "name": "stdout",
     "output_type": "stream",
     "text": [
      "Epoch [17/20], Loss: 0.0262\n"
     ]
    },
    {
     "name": "stderr",
     "output_type": "stream",
     "text": [
      "100%|████████████████████████████████████████████████████████████████████████████████| 938/938 [00:12<00:00, 72.33it/s]\n"
     ]
    },
    {
     "name": "stdout",
     "output_type": "stream",
     "text": [
      "Epoch [18/20], Loss: 0.0325\n"
     ]
    },
    {
     "name": "stderr",
     "output_type": "stream",
     "text": [
      "100%|████████████████████████████████████████████████████████████████████████████████| 938/938 [00:12<00:00, 73.00it/s]\n"
     ]
    },
    {
     "name": "stdout",
     "output_type": "stream",
     "text": [
      "Epoch [19/20], Loss: 0.0319\n"
     ]
    },
    {
     "name": "stderr",
     "output_type": "stream",
     "text": [
      "100%|████████████████████████████████████████████████████████████████████████████████| 938/938 [00:12<00:00, 73.31it/s]"
     ]
    },
    {
     "name": "stdout",
     "output_type": "stream",
     "text": [
      "Epoch [20/20], Loss: 0.0252\n"
     ]
    },
    {
     "name": "stderr",
     "output_type": "stream",
     "text": [
      "\n"
     ]
    }
   ],
   "source": [
    "train(image_net, trainloader, 20)"
   ]
  },
  {
   "cell_type": "code",
   "execution_count": 224,
   "id": "e1846aa5",
   "metadata": {},
   "outputs": [
    {
     "name": "stdout",
     "output_type": "stream",
     "text": [
      "Accuracy of the network on the 10000 test images: 98 %\n"
     ]
    }
   ],
   "source": [
    "validate(image_net, testloader)"
   ]
  },
  {
   "cell_type": "code",
   "execution_count": null,
   "id": "f8697a30",
   "metadata": {},
   "outputs": [],
   "source": []
  }
 ],
 "metadata": {
  "kernelspec": {
   "display_name": "ml",
   "language": "python",
   "name": "ml"
  },
  "language_info": {
   "codemirror_mode": {
    "name": "ipython",
    "version": 3
   },
   "file_extension": ".py",
   "mimetype": "text/x-python",
   "name": "python",
   "nbconvert_exporter": "python",
   "pygments_lexer": "ipython3",
   "version": "3.9.16"
  }
 },
 "nbformat": 4,
 "nbformat_minor": 5
}
